'''
Grab與requests是同質性的工具，都用來請求網站
  Grab可以挑選head或body，似乎比較好用
BeautifulSoup與PyQuery是同質性的工具，都用來解析網站
  PyQuery以CSS為找資料的方式，可以用比較短的句子列出想要的東西，似乎比較好用，但是比較複雜
'''

import requests
from bs4 import BeautifulSoup as bs
from grab import Grab
from pyquery import PyQuery as pq

#以下利用requests與BeautifulSoup

url_d = requests.get('https://www.dcard.tw/f')
url_d_text = url_d.text
url_d_soup = bs(url_d_text)
for i in url_d_soup.find_all('a'):
  print(i.string)

#以下利用Grab與PyQuery

g_d = Grab().go('https://www.dcard.tw/f')
g_body = g_d.body
body_pq = pq(g_body)
a = doc('a')
print(type(a), text(a))

#以下利用Grab與BeautifulSoup

g_d = Grab().go('https://www.dcard.tw/f')
body_g = g_d.body
d_soup = BeautifulSoup(body_g)
for i in d_soup.find_all('a'):
  print(i.string)
