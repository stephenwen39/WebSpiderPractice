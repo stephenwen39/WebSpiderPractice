ettoday = BeautifulSoup(requests.get('https://www.ettoday.net/news/news-list.htm').text, 'html5lib')
dict_title = {}
for i in ettoday.find(class_='part_list_2').find_all('h3'):
  print(i.find(class_='date').text,i.find_all('em')[-1].text, i.find_all('a')[-1].text) #如果是標籤名稱非div就要加[-1]
#印出所有的時間與類別與標題
print("-----------------------")
for i in ettoday.find(class_='part_list_2').find_all('h3'):
  world = i.find_all('em')[-1].text
  if world not in dict_title:
    dict_title[world] = 1 #建立字典
  else:
    dict_title[world] += 1
print(dict_title)
m = max(dict_title.values()) #找尋最熱門的文章
for key, value in dict_title.items():
  if value == m:
    print(key)
