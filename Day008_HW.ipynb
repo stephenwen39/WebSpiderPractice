'''
取出資料的方式是直接用BeautifulSoup解析其text內容，也就是HTML純文字檔
使用BeautifulSoup處理的原因是HTML物件永已許多標籤與屬性，這個lib可以幫我們自動建立樹狀結構方便未來想要找到任意屬性值都很方便
'''

from bs4 import BeautifulSoup
import requests

url_d = requests.get("https://www.dcard.tw/f") #requests for web object
url_d_text = url_d.text #requests dcard's text
url_d_soup = BeautifulSoup(url_d_text) #use beautifulsoup to build a tree of web object
print(url_d_soup)

headers = {'user-agent':'my-app/0.0.1'}
url_z = requests.get("https://www.zhihu.com/explore", headers=headers)
url_z_text = url_z.text
url_z_soup = BeautifulSoup(url_z_text)
print(url_z_soup)
