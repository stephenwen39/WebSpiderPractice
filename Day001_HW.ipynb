'''
以下簡介三種資料集的取得方式，前兩種為持有人主動釋出，後一種屬於持有人被動公開資料

檔案：
檔案是一種資料集儲存的方式，下載檔案等同將該資料集下載下來

API：
Application interface是一種可以即時題供串流資料的資料串接方式，不僅可以選擇自己想要的資料進行串接，資料還能夠以Data flow的方式輸出

網路爬蟲：
當一個存放於網路上的資料集不提供以上兩種取得方式時，就可以利用網路爬蟲取得網路上的資料
'''


import os, sys
from urllib.request import urlretrieve
import chardet

try:
    urlretrieve("https://www.w3.org/TR/PNG/iso_8859-1.txt ",'./data/Hmoework.txt')
except:
    print('error:web connection error or create file error')

files = []
dirs = os.listdir('./data')

for file in dirs:
    files.append(file)
    print(file)

if "Homework.txt" in files:
    print("file exist")
else:
    print("file not found")

rewrite = ''
with open('./data/Homework.txt','w') as rewriteHW:
    rewrite = rewriteHW.write("Hello world")
    rewriteHW.close()

try:
    with open('./data/Homework.txt','r') as rewrite:
        rewrite2 = rewrite.read()
        rewrite.close()
        print(rewrite2)
except EnvironmentError:
    pass

readHW = open('./data/Homework.txt','r')
readHWfile = readHW.read()
readHW.close()
if len('Hello world') == len(readHWfile):
    print('true')
else:
    print('false')
