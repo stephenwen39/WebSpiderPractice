def RegexMatchingTest(regex, input):
  pattern = re.compile(regex)
  result = re.search(pattern, input)
  if result:
    print('Matched:', result.group())
    if result.lastindex is not None:
      for i in range(0, result.lastindex+1):
        print('group(%d): %s' %(i, result.group(i)))
  else:
    print('Not matched')

IP = ['123.123.123.123',
      '123.123.123.0',
      '123.123.0.0',
      '123.0.0.0']
URL = ['https://www.ptt.cc/bbs/Soft_Job/index.html',
       'https://www.ptt.cc/bbs/Soft_Job',
       'https://www.ptt.cc/bbs',
       'https://www.ptt.cc/']

IP_test = '123.123.\d.\d'
URL_test = 'https://www.ptt.cc/\w\w\w/\w\w\w\w\w\w\w\w'    
for i in range(0, len(IP)):
  RegexMatchingTest(IP_test, IP[i])
print('--------------')
for i in range(0, len(URL)):
  RegexMatchingTest(URL_test, URL[i]) # 超過的部分就不會管他
