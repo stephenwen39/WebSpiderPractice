import json
import requests

url_d = requests.get('https://www.dcard.tw/_api/forums/pet/posts?popular=true')
data = json.loads(url_d.text)
count = 0
print('titles:')
for d in data:
  print(d['title'])
  count += 1
print('the number of data:',count)

for c in data:
  print(c['createdAt'])

counts = 0
for c in data:
  print(c['commentCount']) #每個貼文的留言數量
  counts += c['commentCount']
print('comment numbers:',counts/30)

counts = 0
for l in data:
  print(l['likeCount'])
  counts += l['likeCount']
print('AVG likeCount:',counts/30)
