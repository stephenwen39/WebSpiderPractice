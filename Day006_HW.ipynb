import requests
import json

url = requests.get('https://www.zhihu.com/api/v4/questions/55493026/answers')
response = url.text
print(response)

headers = {'user-agent':'my-app/0.0.1'}
url_header = requests.get('https://www.zhihu.com/api/v4/questions/55493026/answers', headers = headers)
response_header = url_header.text
print(response_header)

response_json = json.loads(response_header) # use json to analysis this text file, transfer to json type

for index, time in enumerate(response_json['data']):# get information in 'data'
  print('this is the',index,'one,','data:',time['updated_time']) #print the data in index order, also print the index numbers
