iimport urllib.request
import csv
import os, sys
import numpy as np
import pandas as pd

with open('./data/example.csv','r') as df:
    ds = df.read()
    print('use File I/O')
    print(ds)

with open('./data/example.csv', encoding='utf-8') as csvfile:
    rows = csv.reader(csvfile)
    for row in rows:
        print(row)

with open('./data/example.csv', encoding='utf-8') as csvfile:
    rows = csv.reader(csvfile)
    for index, row in enumerate(rows):
        if index == 19:
            print(row)

with open('./data/example.csv', encoding='utf-8') as csvfile:
    rows = csv.reader(csvfile)
    column = [row[5] for row in rows]
    print(column) #All opration must inside of with description

df = pd.read_csv('./data/example.csv', encoding='utf-8')

nparray = []
i = 0
for row in df['班次1']:
    nparray.insert(i, row)
    i = i + 1
print(nparray)


data1=[]
data2=[]
data3=[]
data4=[]
data5=[]
with open('./data/example.csv', newline='') as csvfile:
    rows = csv.reader(csvfile)
    for row in rows:
        data1.append(row[5])
        data2.append(row[6])
        data3.append(row[7])
        data4.append(row[8])
        data5.append(row[9])

print("{}: {}\n".format(data1[0],type(data1)),data1[1:])
print("{}: {}\n".format(data2[0],type(data2)),data2[1:])
print("{}: {}\n".format(data3[0],type(data3)),data3[1:])
print("{}: {}\n".format(data4[0],type(data4)),data4[1:])
print("{}: {}\n".format(data5[0],type(data5)),data5[1:])
